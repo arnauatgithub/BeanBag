{
  "nbformat": 4,
  "nbformat_minor": 0,
  "metadata": {
    "colab": {
      "name": "DERMOPATOLOGIC_svm_nn_FULL.ipynb",
      "provenance": [],
      "collapsed_sections": [],
      "toc_visible": true,
      "include_colab_link": true
    },
    "kernelspec": {
      "name": "python3",
      "display_name": "Python 3"
    },
    "accelerator": "GPU"
  },
  "cells": [
    {
      "cell_type": "markdown",
      "metadata": {
        "id": "view-in-github",
        "colab_type": "text"
      },
      "source": [
        "<a href=\"https://colab.research.google.com/github/arnauatgithub/BeanBag/blob/master/DERMOPATOLOGIC_svm_nn_FULL.ipynb\" target=\"_parent\"><img src=\"https://colab.research.google.com/assets/colab-badge.svg\" alt=\"Open In Colab\"/></a>"
      ]
    },
    {
      "cell_type": "markdown",
      "metadata": {
        "colab_type": "text",
        "id": "pu9SqU4tHom7"
      },
      "source": [
        "# Dermoscopy images classification\n",
        "* This nootebook proceses the images of Dermoscopy images Dataset.\n",
        "* Include the py files of the project in google drive  and add them as sys.path.append.\n",
        "* Include the dataset for dermoscopy to google drive and load it path as the variable path.\n",
        "* Use the generated CSV and npy files of the project that contains the features lesions.\n",
        "* The components to process new images are loaded in this notebook\n",
        "\n",
        "WARNING!! This colab notebook takes arround 8 hours to complete, most of the time colab logs out, it is highly recommended to run this notebook offline."
      ]
    },
    {
      "cell_type": "markdown",
      "metadata": {
        "id": "kkuY2ahlnnGb",
        "colab_type": "text"
      },
      "source": [
        "Mount Google Drive to the current environment:"
      ]
    },
    {
      "cell_type": "code",
      "metadata": {
        "id": "7AD2V1_dHpFI",
        "colab_type": "code",
        "outputId": "7806ada1-2255-4286-f8f2-87105617af4b",
        "colab": {
          "base_uri": "https://localhost:8080/",
          "height": 128
        }
      },
      "source": [
        "from google.colab import drive\n",
        "drive.mount('/content/gdrive')"
      ],
      "execution_count": 0,
      "outputs": [
        {
          "output_type": "stream",
          "text": [
            "Go to this URL in a browser: https://accounts.google.com/o/oauth2/auth?client_id=947318989803-6bn6qk8qdgf4n4g3pfee6491hc0brc4i.apps.googleusercontent.com&redirect_uri=urn%3Aietf%3Awg%3Aoauth%3A2.0%3Aoob&scope=email%20https%3A%2F%2Fwww.googleapis.com%2Fauth%2Fdocs.test%20https%3A%2F%2Fwww.googleapis.com%2Fauth%2Fdrive%20https%3A%2F%2Fwww.googleapis.com%2Fauth%2Fdrive.photos.readonly%20https%3A%2F%2Fwww.googleapis.com%2Fauth%2Fpeopleapi.readonly&response_type=code\n",
            "\n",
            "Enter your authorization code:\n",
            "··········\n",
            "Mounted at /content/gdrive\n"
          ],
          "name": "stdout"
        }
      ]
    },
    {
      "cell_type": "markdown",
      "metadata": {
        "id": "aV-_sfozntf6",
        "colab_type": "text"
      },
      "source": [
        "Append python files to the path:"
      ]
    },
    {
      "cell_type": "code",
      "metadata": {
        "id": "ni8G_fzpH4fm",
        "colab_type": "code",
        "colab": {}
      },
      "source": [
        "import sys\n",
        "sys.path.append('/content/gdrive/My Drive/dermo_safe_new')"
      ],
      "execution_count": 0,
      "outputs": []
    },
    {
      "cell_type": "markdown",
      "metadata": {
        "id": "CnnO1o84nv-A",
        "colab_type": "text"
      },
      "source": [
        "*Install* required packages used for feature extraction:"
      ]
    },
    {
      "cell_type": "code",
      "metadata": {
        "id": "Wv46n4vmOni3",
        "colab_type": "code",
        "outputId": "96e99d37-0eed-401a-bb91-44152708c198",
        "colab": {
          "base_uri": "https://localhost:8080/",
          "height": 201
        }
      },
      "source": [
        "!pip install mahotas\n",
        "!pip install pyradiomics \n",
        "!pip install SimpleITK "
      ],
      "execution_count": 0,
      "outputs": [
        {
          "output_type": "stream",
          "text": [
            "shell-init: error retrieving current directory: getcwd: cannot access parent directories: Transport endpoint is not connected\n",
            "shell-init: error retrieving current directory: getcwd: cannot access parent directories: Transport endpoint is not connected\n",
            "The folder you are executing pip from can no longer be found.\n",
            "shell-init: error retrieving current directory: getcwd: cannot access parent directories: Transport endpoint is not connected\n",
            "shell-init: error retrieving current directory: getcwd: cannot access parent directories: Transport endpoint is not connected\n",
            "The folder you are executing pip from can no longer be found.\n",
            "shell-init: error retrieving current directory: getcwd: cannot access parent directories: Transport endpoint is not connected\n",
            "shell-init: error retrieving current directory: getcwd: cannot access parent directories: Transport endpoint is not connected\n",
            "The folder you are executing pip from can no longer be found.\n"
          ],
          "name": "stdout"
        }
      ]
    },
    {
      "cell_type": "markdown",
      "metadata": {
        "id": "adV84gwIZKL1",
        "colab_type": "text"
      },
      "source": [
        "## Prepare the datasets \n"
      ]
    },
    {
      "cell_type": "markdown",
      "metadata": {
        "id": "kCPuwj1BoWgS",
        "colab_type": "text"
      },
      "source": [
        "First, generate feature files without segmentation"
      ]
    },
    {
      "cell_type": "code",
      "metadata": {
        "id": "8Ow_9YG-MuVN",
        "colab_type": "code",
        "colab": {}
      },
      "source": [
        "from feature_extraction.training_data import prepare_dataset\n",
        "path_train = 'gdrive/My Drive/dataset_dermo/train'\n",
        "prepare_dataset(path_train, \"train_no_segm\", segm_alg = None)"
      ],
      "execution_count": 0,
      "outputs": []
    },
    {
      "cell_type": "code",
      "metadata": {
        "id": "XGmoNrFWXV14",
        "colab_type": "code",
        "colab": {}
      },
      "source": [
        "from feature_extraction.training_data import prepate_datasets_no_segm\n",
        "path_val = 'gdrive/My Drive/dataset_dermo/val'\n",
        "prepare_dataset(path_val, \"val_no_segm\", segm_alg=None)"
      ],
      "execution_count": 0,
      "outputs": []
    },
    {
      "cell_type": "markdown",
      "metadata": {
        "id": "4FrB-vueoGwP",
        "colab_type": "text"
      },
      "source": [
        "At this point 4 files have been generated in folders train and val, corresponding to feature vector and metadata for both datasets for the case of no segmentation. Please go to your Google Drive and move those files to another folder."
      ]
    },
    {
      "cell_type": "markdown",
      "metadata": {
        "id": "u6neiLG9oZ42",
        "colab_type": "text"
      },
      "source": [
        "Now features with segmentation are generated"
      ]
    },
    {
      "cell_type": "code",
      "metadata": {
        "id": "UYNv5l3Eod76",
        "colab_type": "code",
        "colab": {}
      },
      "source": [
        "prepare_dataset(path_train, \"train_segm\", segm_alg = \"ws\")\n",
        "prepare_dataset(path_val, \"val_segm\", segm_alg=\"ws\")"
      ],
      "execution_count": 0,
      "outputs": []
    },
    {
      "cell_type": "markdown",
      "metadata": {
        "id": "lbIlytaLoqbR",
        "colab_type": "text"
      },
      "source": [
        "Two new files have been generated. Please move these files to the folder where you put the other two files previously."
      ]
    },
    {
      "cell_type": "markdown",
      "metadata": {
        "id": "zFLCqJLcmYVo",
        "colab_type": "text"
      },
      "source": [
        "## Open the feature files\n"
      ]
    },
    {
      "cell_type": "markdown",
      "metadata": {
        "id": "dsOD1H9VVsc5",
        "colab_type": "text"
      },
      "source": [
        "In this part of the notebook the feature files generated previously are read. Make sure the path of the files corresponds to the folder where you put all 4 files previously."
      ]
    },
    {
      "cell_type": "code",
      "metadata": {
        "id": "bKuvOHZ0TfEl",
        "colab_type": "code",
        "colab": {}
      },
      "source": [
        "import numpy as np"
      ],
      "execution_count": 0,
      "outputs": []
    },
    {
      "cell_type": "markdown",
      "metadata": {
        "id": "XXrUeNrwpF7D",
        "colab_type": "text"
      },
      "source": [
        "Read metadata first:"
      ]
    },
    {
      "cell_type": "code",
      "metadata": {
        "id": "1NaDO-uQSEIr",
        "colab_type": "code",
        "colab": {}
      },
      "source": [
        "import pandas as pd\n",
        "train_metadata = pd.read_csv('gdrive/My Drive/features_train_validation/train_segm.csv')\n",
        "val_metadata = pd.read_csv('gdrive/My Drive/features_train_validation/val_segm.csv')\n",
        "Y_train = (train_metadata.iloc[:, -1] == 'les').to_numpy() * 1\n",
        "Y_val = (val_metadata.iloc[:, -1] == 'les').to_numpy() * 1"
      ],
      "execution_count": 0,
      "outputs": []
    },
    {
      "cell_type": "markdown",
      "metadata": {
        "id": "VU7R8f9spIQB",
        "colab_type": "text"
      },
      "source": [
        "Read feature vectors"
      ]
    },
    {
      "cell_type": "code",
      "metadata": {
        "id": "cCbJpL5vSj7l",
        "colab_type": "code",
        "colab": {}
      },
      "source": [
        "X_train = np.load('gdrive/My Drive/features_train_validation/train_segm.npy')\n",
        "X_val = np.load('gdrive/My Drive/features_train_validation/val_segm.npy')"
      ],
      "execution_count": 0,
      "outputs": []
    },
    {
      "cell_type": "markdown",
      "metadata": {
        "id": "M956irAcVzWR",
        "colab_type": "text"
      },
      "source": [
        "Read features file that does not have segmentation:"
      ]
    },
    {
      "cell_type": "code",
      "metadata": {
        "id": "P7L1d-F9Thai",
        "colab_type": "code",
        "colab": {}
      },
      "source": [
        "train_metadata_2 = pd.read_csv('gdrive/My Drive/features_train_validation/train_no_segm.csv')\n",
        "val_metadata_2 = pd.read_csv('gdrive/My Drive/features_train_validation/val_no_segm.csv')\n",
        "Y_train_2 = (train_metadata_2.iloc[:, -1] == 'les').to_numpy() * 1\n",
        "Y_val_2 = (val_metadata_2.iloc[:, -1] == 'les').to_numpy() * 1"
      ],
      "execution_count": 0,
      "outputs": []
    },
    {
      "cell_type": "code",
      "metadata": {
        "id": "paYrduWSV92u",
        "colab_type": "code",
        "colab": {}
      },
      "source": [
        "X_train_2 = np.load('gdrive/My Drive/features_train_validation/train_no_segm.npy')\n",
        "X_val_2 = np.load('gdrive/My Drive/features_train_validation/val_no_segm.npy')"
      ],
      "execution_count": 0,
      "outputs": []
    },
    {
      "cell_type": "code",
      "metadata": {
        "id": "H9ECCFOgWDGD",
        "colab_type": "code",
        "outputId": "898dae84-abb6-4320-8201-af16a740647e",
        "colab": {
          "base_uri": "https://localhost:8080/",
          "height": 35
        }
      },
      "source": [
        "X_train = np.concatenate((X_train, X_train_2), axis = 1)\n",
        "X_val = np.concatenate((X_val, X_val_2), axis=1)\n",
        "X_train.shape"
      ],
      "execution_count": 0,
      "outputs": [
        {
          "output_type": "execute_result",
          "data": {
            "text/plain": [
              "(4800, 1290)"
            ]
          },
          "metadata": {
            "tags": []
          },
          "execution_count": 45
        }
      ]
    },
    {
      "cell_type": "markdown",
      "metadata": {
        "id": "MBaUWEqGZf6u",
        "colab_type": "text"
      },
      "source": [
        "Join training and validation features"
      ]
    },
    {
      "cell_type": "code",
      "metadata": {
        "id": "sOkkBc-dmamg",
        "colab_type": "code",
        "colab": {}
      },
      "source": [
        "X_train = np.concatenate((X_train, X_val), axis = 0)\n",
        "Y_train = np.concatenate((Y_train, Y_val), axis = 0)"
      ],
      "execution_count": 0,
      "outputs": []
    },
    {
      "cell_type": "code",
      "metadata": {
        "id": "xOfe_rpyqwV0",
        "colab_type": "code",
        "outputId": "6100c00f-7c66-4aff-e007-bfe8cdae20ca",
        "colab": {
          "base_uri": "https://localhost:8080/",
          "height": 35
        }
      },
      "source": [
        "X_train.shape\n"
      ],
      "execution_count": 0,
      "outputs": [
        {
          "output_type": "execute_result",
          "data": {
            "text/plain": [
              "(6000, 1290)"
            ]
          },
          "metadata": {
            "tags": []
          },
          "execution_count": 53
        }
      ]
    },
    {
      "cell_type": "markdown",
      "metadata": {
        "id": "7SyRSQybOLWQ",
        "colab_type": "text"
      },
      "source": [
        "## Normalize data\n"
      ]
    },
    {
      "cell_type": "code",
      "metadata": {
        "id": "c9W3-njZOJo8",
        "colab_type": "code",
        "colab": {}
      },
      "source": [
        "from sklearn.preprocessing import StandardScaler\n",
        "scaler = StandardScaler()\n",
        "scaler.fit(X_train)\n",
        "X_train = scaler.transform(X_train)\n",
        "X_val = scaler.transform(X_val)"
      ],
      "execution_count": 0,
      "outputs": []
    },
    {
      "cell_type": "code",
      "metadata": {
        "id": "pVqCFItblqZ-",
        "colab_type": "code",
        "outputId": "7ed21042-646e-41f9-e041-2973caa83ba2",
        "colab": {
          "base_uri": "https://localhost:8080/",
          "height": 35
        }
      },
      "source": [
        "X_train.shape"
      ],
      "execution_count": 0,
      "outputs": [
        {
          "output_type": "execute_result",
          "data": {
            "text/plain": [
              "(6000, 1290)"
            ]
          },
          "metadata": {
            "tags": []
          },
          "execution_count": 57
        }
      ]
    },
    {
      "cell_type": "markdown",
      "metadata": {
        "id": "47LsouD0lNaD",
        "colab_type": "text"
      },
      "source": [
        "## Perform feature selection"
      ]
    },
    {
      "cell_type": "code",
      "metadata": {
        "id": "1tcp6brElP5h",
        "colab_type": "code",
        "colab": {}
      },
      "source": [
        "from sklearn.ensemble import ExtraTreesClassifier\n",
        "from sklearn.feature_selection import SelectFromModel\n",
        "clf1 = ExtraTreesClassifier(n_estimators=100)\n",
        "clf1 = clf1.fit(X_train, Y_train)\n",
        "#Take most important N features:\n",
        "#N = 284\n",
        "#imp = clf1.feature_importances_\n",
        "#feat_ind = imp.argsort()[-N:][::-1]\n",
        "#X_train = X_train[:,feat_ind]\n",
        "#X_val = X_val[:,feat_ind]\n",
        "\n",
        "#Or take as many as the tool says:\n",
        "model = SelectFromModel(clf1, prefit=True)\n",
        "X_train = model.transform(X_train)\n",
        "X_val = model.transform(X_val)"
      ],
      "execution_count": 0,
      "outputs": []
    },
    {
      "cell_type": "code",
      "metadata": {
        "id": "mlTim9XAGzIn",
        "colab_type": "code",
        "outputId": "058a1a12-bf21-4dbf-d8dc-df51babb6377",
        "colab": {
          "base_uri": "https://localhost:8080/",
          "height": 35
        }
      },
      "source": [
        "X_train.shape"
      ],
      "execution_count": 0,
      "outputs": [
        {
          "output_type": "execute_result",
          "data": {
            "text/plain": [
              "(6000, 1290)"
            ]
          },
          "metadata": {
            "tags": []
          },
          "execution_count": 54
        }
      ]
    },
    {
      "cell_type": "markdown",
      "metadata": {
        "id": "4cILBuhap_vV",
        "colab_type": "text"
      },
      "source": [
        "## SVM CLASSIFIER"
      ]
    },
    {
      "cell_type": "code",
      "metadata": {
        "id": "Tv26T8VDn2up",
        "colab_type": "code",
        "colab": {}
      },
      "source": [
        "import numpy as np\n",
        "import pandas as pd\n",
        "from sklearn import svm\n",
        "\n",
        "from sklearn.datasets import make_classification\n",
        "from sklearn.metrics import accuracy_score, precision_score, recall_score"
      ],
      "execution_count": 0,
      "outputs": []
    },
    {
      "cell_type": "markdown",
      "metadata": {
        "id": "L33juE9LqMW1",
        "colab_type": "text"
      },
      "source": [
        "Define and fit SVM to data\n",
        "\n",
        "\n",
        "\n"
      ]
    },
    {
      "cell_type": "code",
      "metadata": {
        "id": "eak_WcIKp5mq",
        "colab_type": "code",
        "outputId": "7d009b55-ecbc-41eb-8b62-4013fc9874bd",
        "colab": {
          "base_uri": "https://localhost:8080/",
          "height": 90
        }
      },
      "source": [
        "clf_svm = svm.SVC(C=3, gamma='scale', kernel = 'rbf', probability = True)\n",
        "clf_svm.fit(X_train, Y_train)"
      ],
      "execution_count": 0,
      "outputs": [
        {
          "output_type": "execute_result",
          "data": {
            "text/plain": [
              "SVC(C=3, cache_size=200, class_weight=None, coef0=0.0,\n",
              "    decision_function_shape='ovr', degree=3, gamma='scale', kernel='rbf',\n",
              "    max_iter=-1, probability=True, random_state=None, shrinking=True, tol=0.001,\n",
              "    verbose=False)"
            ]
          },
          "metadata": {
            "tags": []
          },
          "execution_count": 23
        }
      ]
    },
    {
      "cell_type": "markdown",
      "metadata": {
        "id": "qbHRgnPQrnhC",
        "colab_type": "text"
      },
      "source": [
        "#### Evaluate results on validation set\n"
      ]
    },
    {
      "cell_type": "code",
      "metadata": {
        "id": "l2H1EJJ4FaVW",
        "colab_type": "code",
        "colab": {}
      },
      "source": [
        "pred_val = clf_svm.predict(X_val)\n",
        "pred_train = clf_svm.predict(X_train)"
      ],
      "execution_count": 0,
      "outputs": []
    },
    {
      "cell_type": "code",
      "metadata": {
        "id": "Gs5dWmqZFqVV",
        "colab_type": "code",
        "outputId": "dd41d2d8-1e5d-4e59-c7cf-51fd0a93087e",
        "colab": {
          "base_uri": "https://localhost:8080/",
          "height": 54
        }
      },
      "source": [
        "from sklearn.metrics import roc_curve, auc,accuracy_score, confusion_matrix\n",
        "confusion_matrix(Y_val, pred_val)"
      ],
      "execution_count": 0,
      "outputs": [
        {
          "output_type": "execute_result",
          "data": {
            "text/plain": [
              "array([[535,  65],\n",
              "       [ 58, 542]])"
            ]
          },
          "metadata": {
            "tags": []
          },
          "execution_count": 25
        }
      ]
    },
    {
      "cell_type": "code",
      "metadata": {
        "id": "jbSt4-I6F48k",
        "colab_type": "code",
        "outputId": "66d18160-69d3-4bb7-9d51-bc18e20b5480",
        "colab": {
          "base_uri": "https://localhost:8080/",
          "height": 35
        }
      },
      "source": [
        "acc = accuracy_score(Y_val, pred_val)\n",
        "print(\"Accuracy in validation set: \", acc)"
      ],
      "execution_count": 0,
      "outputs": [
        {
          "output_type": "execute_result",
          "data": {
            "text/plain": [
              "0.8975"
            ]
          },
          "metadata": {
            "tags": []
          },
          "execution_count": 26
        }
      ]
    },
    {
      "cell_type": "code",
      "metadata": {
        "id": "622xU9QCuUL4",
        "colab_type": "code",
        "outputId": "f6a415fc-bfde-42d6-cecf-63f9f185c0bf",
        "colab": {
          "base_uri": "https://localhost:8080/",
          "height": 54
        }
      },
      "source": [
        "confusion_matrix(Y_train, pred_train)"
      ],
      "execution_count": 0,
      "outputs": [
        {
          "output_type": "execute_result",
          "data": {
            "text/plain": [
              "array([[2319,   81],\n",
              "       [  56, 2344]])"
            ]
          },
          "metadata": {
            "tags": []
          },
          "execution_count": 27
        }
      ]
    },
    {
      "cell_type": "code",
      "metadata": {
        "id": "o25h5DGUxC4B",
        "colab_type": "code",
        "outputId": "e58dab04-0fde-45ff-bf3c-70f1db43df76",
        "colab": {
          "base_uri": "https://localhost:8080/",
          "height": 35
        }
      },
      "source": [
        "acc_tr = accuracy_score(Y_train, pred_train)\n",
        "print(\"Accuracty in training: \", acc_tr)"
      ],
      "execution_count": 0,
      "outputs": [
        {
          "output_type": "execute_result",
          "data": {
            "text/plain": [
              "0.9714583333333333"
            ]
          },
          "metadata": {
            "tags": []
          },
          "execution_count": 28
        }
      ]
    },
    {
      "cell_type": "code",
      "metadata": {
        "id": "1ddnvn67SSlJ",
        "colab_type": "code",
        "colab": {}
      },
      "source": [
        "probs_svm = clf_svm.predict_proba(X_val)\n",
        "probs_svm = probs_svm[:,1]"
      ],
      "execution_count": 0,
      "outputs": []
    },
    {
      "cell_type": "code",
      "metadata": {
        "id": "kBqgm200SdOX",
        "colab_type": "code",
        "outputId": "8050fa92-8985-433f-8322-04c244fe6442",
        "colab": {
          "base_uri": "https://localhost:8080/",
          "height": 295
        }
      },
      "source": [
        "from sklearn.metrics import roc_curve, auc,accuracy_score, confusion_matrix\n",
        "import matplotlib.pyplot as plt\n",
        "fpr_svm, tpr_svm, thresholds = roc_curve(Y_val, probs_svm)\n",
        "plt.plot([0, 1], [0, 1], 'k--')\n",
        "plt.plot(fpr_svm, tpr_svm, label='SVM AUC='+'{0:.2f}'.format(auc(fpr_svm, tpr_svm)))\n",
        "plt.xlabel('False positive rate')\n",
        "plt.ylabel('True positive rate')\n",
        "plt.title('ROC curve')\n",
        "plt.legend(loc='best')\n",
        "plt.show()"
      ],
      "execution_count": 0,
      "outputs": [
        {
          "output_type": "display_data",
          "data": {
            "image/png": "[encoded data removed]",
            "text/plain": [
              "<Figure size 432x288 with 1 Axes>"
            ]
          },
          "metadata": {
            "tags": []
          }
        }
      ]
    },
    {
      "cell_type": "markdown",
      "metadata": {
        "id": "Ycf-R1DUMYHk",
        "colab_type": "text"
      },
      "source": [
        "Logistic regression"
      ]
    },
    {
      "cell_type": "code",
      "metadata": {
        "id": "TuJZvFjvLvdW",
        "colab_type": "code",
        "outputId": "140b0d38-ce63-451a-da65-4168bf73963f",
        "colab": {
          "base_uri": "https://localhost:8080/",
          "height": 92
        }
      },
      "source": [
        "from sklearn.linear_model import LogisticRegression\n",
        "logreg_clf = LogisticRegression()\n",
        "logreg_clf.fit(X_train, Y_train)\n",
        "pred_val_lr = logreg_clf.predict(X_val)\n",
        "confusion_matrix(Y_val, pred_val_lr)\n",
        "acc_lr = accuracy_score(Y_val, pred_val_lr)\n",
        "print(\"Accuracy for validation set: \", acc_lr)"
      ],
      "execution_count": 0,
      "outputs": [
        {
          "output_type": "stream",
          "text": [
            "/usr/local/lib/python3.6/dist-packages/sklearn/linear_model/logistic.py:432: FutureWarning: Default solver will be changed to 'lbfgs' in 0.22. Specify a solver to silence this warning.\n",
            "  FutureWarning)\n"
          ],
          "name": "stderr"
        },
        {
          "output_type": "execute_result",
          "data": {
            "text/plain": [
              "0.8575"
            ]
          },
          "metadata": {
            "tags": []
          },
          "execution_count": 224
        }
      ]
    },
    {
      "cell_type": "code",
      "metadata": {
        "id": "AIxKMJUoR2Ub",
        "colab_type": "code",
        "colab": {}
      },
      "source": [
        "probs_logreg = logreg_clf.predict_proba(X_val)\n",
        "probs_logreg = probs_logreg[:,1]"
      ],
      "execution_count": 0,
      "outputs": []
    },
    {
      "cell_type": "code",
      "metadata": {
        "id": "Q3OQq-uDR90W",
        "colab_type": "code",
        "outputId": "397e6e96-542c-4cbc-9f71-b7ec15000427",
        "colab": {
          "base_uri": "https://localhost:8080/",
          "height": 295
        }
      },
      "source": [
        "from sklearn.metrics import roc_curve, auc,accuracy_score, confusion_matrix\n",
        "import matplotlib.pyplot as plt\n",
        "fpr_lg, tpr_lg, thresholds = roc_curve(Y_val, probs_logreg)\n",
        "plt.plot([0, 1], [0, 1], 'k--')\n",
        "plt.plot(fpr_lg, tpr_lg, label='LogReg AUC='+'{0:.2f}'.format(auc(fpr_lg, tpr_lg)))\n",
        "plt.xlabel('False positive rate')\n",
        "plt.ylabel('True positive rate')\n",
        "plt.title('ROC curve')\n",
        "plt.legend(loc='best')\n",
        "plt.show()"
      ],
      "execution_count": 0,
      "outputs": [
        {
          "output_type": "display_data",
          "data": {
            "image/png": "[encoded data removed]",
            "text/plain": [
              "<Figure size 432x288 with 1 Axes>"
            ]
          },
          "metadata": {
            "tags": []
          }
        }
      ]
    },
    {
      "cell_type": "markdown",
      "metadata": {
        "id": "pMs8bSybMez5",
        "colab_type": "text"
      },
      "source": [
        "## Adaboost\n"
      ]
    },
    {
      "cell_type": "code",
      "metadata": {
        "id": "pldxP-WoMgiy",
        "colab_type": "code",
        "colab": {}
      },
      "source": [
        "from sklearn.ensemble import RandomForestClassifier, AdaBoostClassifier\n",
        "clf_AB = AdaBoostClassifier(n_estimators=100, random_state=0)\n",
        "clf_AB.fit(X_train, Y_train)\n",
        "pred_val_AB = clf_AB.predict(X_val)"
      ],
      "execution_count": 0,
      "outputs": []
    },
    {
      "cell_type": "code",
      "metadata": {
        "id": "hcRnZEyDM4xo",
        "colab_type": "code",
        "outputId": "6109a4c2-097a-4f05-be44-56ed09fd40f9",
        "colab": {
          "base_uri": "https://localhost:8080/",
          "height": 54
        }
      },
      "source": [
        "confusion_matrix(Y_val, pred_val_AB)\n"
      ],
      "execution_count": 0,
      "outputs": [
        {
          "output_type": "execute_result",
          "data": {
            "text/plain": [
              "array([[504,  96],\n",
              "       [ 87, 513]])"
            ]
          },
          "metadata": {
            "tags": []
          },
          "execution_count": 228
        }
      ]
    },
    {
      "cell_type": "code",
      "metadata": {
        "id": "pr5wy2yg1-xN",
        "colab_type": "code",
        "outputId": "9a79a4db-8fca-44b2-f1a2-4751d470066d",
        "colab": {
          "base_uri": "https://localhost:8080/",
          "height": 35
        }
      },
      "source": [
        "acc_ab = accuracy_score(Y_val, pred_val_AB)\n",
        "print(\"Accuracy for validation set: \", acc_ab)"
      ],
      "execution_count": 0,
      "outputs": [
        {
          "output_type": "execute_result",
          "data": {
            "text/plain": [
              "0.8475"
            ]
          },
          "metadata": {
            "tags": []
          },
          "execution_count": 229
        }
      ]
    },
    {
      "cell_type": "code",
      "metadata": {
        "id": "SpFe8J4nRj_x",
        "colab_type": "code",
        "colab": {}
      },
      "source": [
        "probs_ada = clf_AB.predict_proba(X_val)\n",
        "probs_ada = probs_ada[:,1]"
      ],
      "execution_count": 0,
      "outputs": []
    },
    {
      "cell_type": "code",
      "metadata": {
        "id": "jg8UdFgGRreO",
        "colab_type": "code",
        "outputId": "dd4015b3-06b6-4a72-cf2a-bb82a17057cd",
        "colab": {
          "base_uri": "https://localhost:8080/",
          "height": 295
        }
      },
      "source": [
        "from sklearn.metrics import roc_curve, auc,accuracy_score, confusion_matrix\n",
        "import matplotlib.pyplot as plt\n",
        "fpr_ab, tpr_ab, thresholds = roc_curve(Y_val, probs_ada)\n",
        "plt.plot([0, 1], [0, 1], 'k--')\n",
        "plt.plot(fpr_ab, tpr_ab, label='AdaBoost AUC='+'{0:.2f}'.format(auc(fpr_ab, tpr_ab)))\n",
        "plt.xlabel('False positive rate')\n",
        "plt.ylabel('True positive rate')\n",
        "plt.title('ROC curve')\n",
        "plt.legend(loc='best')\n",
        "plt.show()"
      ],
      "execution_count": 0,
      "outputs": [
        {
          "output_type": "display_data",
          "data": {
            "image/png": "[encoded data removed]",
            "text/plain": [
              "<Figure size 432x288 with 1 Axes>"
            ]
          },
          "metadata": {
            "tags": []
          }
        }
      ]
    },
    {
      "cell_type": "markdown",
      "metadata": {
        "id": "OnYxWKV_VSZZ",
        "colab_type": "text"
      },
      "source": [
        "## Neural network"
      ]
    },
    {
      "cell_type": "code",
      "metadata": {
        "id": "kmbLu5kZKzc2",
        "colab_type": "code",
        "colab": {}
      },
      "source": [
        "from sklearn.neural_network import MLPClassifier"
      ],
      "execution_count": 0,
      "outputs": []
    },
    {
      "cell_type": "code",
      "metadata": {
        "id": "Bq1f2v7UK3A_",
        "colab_type": "code",
        "colab": {}
      },
      "source": [
        "clf_nn = MLPClassifier(hidden_layer_sizes=(100,100), activation='relu', solver='adam', max_iter=500, random_state=9)"
      ],
      "execution_count": 0,
      "outputs": []
    },
    {
      "cell_type": "code",
      "metadata": {
        "id": "SrRt4kJlL11E",
        "colab_type": "code",
        "outputId": "d3887967-895e-47a7-8a91-cc8292828be2",
        "colab": {
          "base_uri": "https://localhost:8080/",
          "height": 145
        }
      },
      "source": [
        "clf_nn.fit(X_train, Y_train)"
      ],
      "execution_count": 0,
      "outputs": [
        {
          "output_type": "execute_result",
          "data": {
            "text/plain": [
              "MLPClassifier(activation='relu', alpha=0.0001, batch_size='auto', beta_1=0.9,\n",
              "              beta_2=0.999, early_stopping=False, epsilon=1e-08,\n",
              "              hidden_layer_sizes=(100, 100), learning_rate='constant',\n",
              "              learning_rate_init=0.001, max_iter=500, momentum=0.9,\n",
              "              n_iter_no_change=10, nesterovs_momentum=True, power_t=0.5,\n",
              "              random_state=9, shuffle=True, solver='adam', tol=0.0001,\n",
              "              validation_fraction=0.1, verbose=False, warm_start=False)"
            ]
          },
          "metadata": {
            "tags": []
          },
          "execution_count": 234
        }
      ]
    },
    {
      "cell_type": "code",
      "metadata": {
        "id": "rz3ovwBTLq8-",
        "colab_type": "code",
        "colab": {}
      },
      "source": [
        "pred_val_nn = clf_nn.predict(X_val)"
      ],
      "execution_count": 0,
      "outputs": []
    },
    {
      "cell_type": "code",
      "metadata": {
        "id": "N8ehVyvOL0Kx",
        "colab_type": "code",
        "outputId": "2b3e9914-57eb-42d0-9e91-7c96b92107ec",
        "colab": {
          "base_uri": "https://localhost:8080/",
          "height": 54
        }
      },
      "source": [
        "confusion_matrix(Y_val, pred_val_nn)"
      ],
      "execution_count": 0,
      "outputs": [
        {
          "output_type": "execute_result",
          "data": {
            "text/plain": [
              "array([[520,  80],\n",
              "       [ 63, 537]])"
            ]
          },
          "metadata": {
            "tags": []
          },
          "execution_count": 236
        }
      ]
    },
    {
      "cell_type": "code",
      "metadata": {
        "id": "LphTQtUu2jDB",
        "colab_type": "code",
        "outputId": "520a73e8-5d34-4eef-e102-74f18de2e4be",
        "colab": {
          "base_uri": "https://localhost:8080/",
          "height": 35
        }
      },
      "source": [
        "acc_nn = accuracy_score(Y_val, pred_val_nn)\n",
        "print(\"Accuracy for validation set: \", acc_nn)"
      ],
      "execution_count": 0,
      "outputs": [
        {
          "output_type": "execute_result",
          "data": {
            "text/plain": [
              "0.8808333333333334"
            ]
          },
          "metadata": {
            "tags": []
          },
          "execution_count": 237
        }
      ]
    },
    {
      "cell_type": "code",
      "metadata": {
        "id": "ZvGV2IqbMHXW",
        "colab_type": "code",
        "colab": {}
      },
      "source": [
        "probs_nn = clf_nn.predict_proba(X_val)\n",
        "probs_nn = probs_nn[:,1]"
      ],
      "execution_count": 0,
      "outputs": []
    },
    {
      "cell_type": "code",
      "metadata": {
        "id": "gItSoDqlSl0z",
        "colab_type": "code",
        "outputId": "b3cd3e5e-f50c-436e-fdc8-bc71d183adbd",
        "colab": {
          "base_uri": "https://localhost:8080/",
          "height": 295
        }
      },
      "source": [
        "from sklearn.metrics import roc_curve, auc,accuracy_score, confusion_matrix\n",
        "import matplotlib.pyplot as plt\n",
        "fpr_nn, tpr_nn, thresholds = roc_curve(Y_val, probs_nn)\n",
        "plt.plot([0, 1], [0, 1], 'k--')\n",
        "plt.plot(fpr_nn, tpr_nn, label='NN AUC='+'{0:.2f}'.format(auc(fpr_nn, tpr_nn)))\n",
        "plt.xlabel('False positive rate')\n",
        "plt.ylabel('True positive rate')\n",
        "plt.title('ROC curve')\n",
        "plt.legend(loc='best')\n",
        "plt.show()"
      ],
      "execution_count": 0,
      "outputs": [
        {
          "output_type": "display_data",
          "data": {
            "image/png": "[encoded data removed]",
            "text/plain": [
              "<Figure size 432x288 with 1 Axes>"
            ]
          },
          "metadata": {
            "tags": []
          }
        }
      ]
    },
    {
      "cell_type": "markdown",
      "metadata": {
        "id": "qSo3hG2IUPGi",
        "colab_type": "text"
      },
      "source": [
        "## Random Forest Classifier"
      ]
    },
    {
      "cell_type": "code",
      "metadata": {
        "id": "a6DQvexfUSCQ",
        "colab_type": "code",
        "colab": {}
      },
      "source": [
        "from sklearn.ensemble import RandomForestClassifier\n",
        "clf_rf = RandomForestClassifier(n_estimators=50, max_depth=6, max_features = X_train.shape[1], random_state=0)"
      ],
      "execution_count": 0,
      "outputs": []
    },
    {
      "cell_type": "code",
      "metadata": {
        "id": "-BE5eOlTUdfk",
        "colab_type": "code",
        "outputId": "85859728-7a26-4a32-c9ff-d0516f9b1e33",
        "colab": {
          "base_uri": "https://localhost:8080/",
          "height": 145
        }
      },
      "source": [
        "clf_rf.fit(X_train, Y_train)"
      ],
      "execution_count": 0,
      "outputs": [
        {
          "output_type": "execute_result",
          "data": {
            "text/plain": [
              "RandomForestClassifier(bootstrap=True, class_weight=None, criterion='gini',\n",
              "                       max_depth=6, max_features=284, max_leaf_nodes=None,\n",
              "                       min_impurity_decrease=0.0, min_impurity_split=None,\n",
              "                       min_samples_leaf=1, min_samples_split=2,\n",
              "                       min_weight_fraction_leaf=0.0, n_estimators=50,\n",
              "                       n_jobs=None, oob_score=False, random_state=0, verbose=0,\n",
              "                       warm_start=False)"
            ]
          },
          "metadata": {
            "tags": []
          },
          "execution_count": 241
        }
      ]
    },
    {
      "cell_type": "code",
      "metadata": {
        "id": "xTbECj7YUsKo",
        "colab_type": "code",
        "colab": {}
      },
      "source": [
        "pred_RF = clf_rf.predict(X_val)\n",
        "probs_RF = clf_rf.predict_proba(X_val)\n",
        "probs_RF=probs_RF[:,1]"
      ],
      "execution_count": 0,
      "outputs": []
    },
    {
      "cell_type": "code",
      "metadata": {
        "id": "zWazrAojU4bT",
        "colab_type": "code",
        "outputId": "d3790d08-9d38-41c4-8d3a-afcc89afc3aa",
        "colab": {
          "base_uri": "https://localhost:8080/",
          "height": 54
        }
      },
      "source": [
        "confusion_matrix(Y_val, pred_RF)"
      ],
      "execution_count": 0,
      "outputs": [
        {
          "output_type": "execute_result",
          "data": {
            "text/plain": [
              "array([[484, 116],\n",
              "       [ 71, 529]])"
            ]
          },
          "metadata": {
            "tags": []
          },
          "execution_count": 243
        }
      ]
    },
    {
      "cell_type": "code",
      "metadata": {
        "id": "5UVUx50K3P8H",
        "colab_type": "code",
        "outputId": "26f9829d-796b-4d2c-8782-d9ab2b9dc333",
        "colab": {
          "base_uri": "https://localhost:8080/",
          "height": 35
        }
      },
      "source": [
        "acc_rf = accuracy_score(Y_val, pred_RF)\n",
        "print(\"Accuracy for validation set: \", acc_rf)"
      ],
      "execution_count": 0,
      "outputs": [
        {
          "output_type": "execute_result",
          "data": {
            "text/plain": [
              "0.8441666666666666"
            ]
          },
          "metadata": {
            "tags": []
          },
          "execution_count": 244
        }
      ]
    },
    {
      "cell_type": "code",
      "metadata": {
        "id": "_vI_ufX5VZfQ",
        "colab_type": "code",
        "outputId": "aa583c38-ceee-41ae-9517-1d43ed29ad07",
        "colab": {
          "base_uri": "https://localhost:8080/",
          "height": 295
        }
      },
      "source": [
        "from sklearn.metrics import roc_curve, auc,accuracy_score, confusion_matrix\n",
        "import matplotlib.pyplot as plt\n",
        "fpr_rf, tpr_rf, thresholds = roc_curve(Y_val, probs_RF)\n",
        "plt.plot([0, 1], [0, 1], 'k--')\n",
        "plt.plot(fpr_rf, tpr_rf, label='RF AUC='+'{0:.2f}'.format(auc(fpr_rf, tpr_rf)))\n",
        "plt.xlabel('False positive rate')\n",
        "plt.ylabel('True positive rate')\n",
        "plt.title('ROC curve')\n",
        "plt.legend(loc='best')\n",
        "plt.show()"
      ],
      "execution_count": 0,
      "outputs": [
        {
          "output_type": "display_data",
          "data": {
            "image/png": "[encoded data removed]",
            "text/plain": [
              "<Figure size 432x288 with 1 Axes>"
            ]
          },
          "metadata": {
            "tags": []
          }
        }
      ]
    },
    {
      "cell_type": "code",
      "metadata": {
        "id": "X50QpTscVdsV",
        "colab_type": "code",
        "outputId": "1aa3e027-2777-462c-ecc7-a07d0a0b8e54",
        "colab": {
          "base_uri": "https://localhost:8080/",
          "height": 35
        }
      },
      "source": [
        "pred_train_RF = clf_rf.predict(X_train)\n",
        "acc_tr_rf = accuracy_score(Y_train, pred_train_RF)\n",
        "print(\"Accuracy for training: \", acc_tr_rf)"
      ],
      "execution_count": 0,
      "outputs": [
        {
          "output_type": "execute_result",
          "data": {
            "text/plain": [
              "0.89125"
            ]
          },
          "metadata": {
            "tags": []
          },
          "execution_count": 246
        }
      ]
    },
    {
      "cell_type": "markdown",
      "metadata": {
        "id": "0fbuhMM5cTR7",
        "colab_type": "text"
      },
      "source": [
        "## XG Boost\n"
      ]
    },
    {
      "cell_type": "code",
      "metadata": {
        "id": "gekabEgkMgCt",
        "colab_type": "code",
        "colab": {}
      },
      "source": [
        "import numpy as np\n",
        "import pandas as pd\n",
        "import xgboost as xgb\n",
        "\n",
        "from sklearn.datasets import make_classification\n",
        "from sklearn.metrics import accuracy_score, precision_score, recall_score"
      ],
      "execution_count": 0,
      "outputs": []
    },
    {
      "cell_type": "code",
      "metadata": {
        "id": "kdOgAYK5cX8T",
        "colab_type": "code",
        "outputId": "3eb6f2d1-d036-48ac-ba12-6d3015782ea3",
        "colab": {
          "base_uri": "https://localhost:8080/",
          "height": 35
        }
      },
      "source": [
        "dtrain = xgb.DMatrix(X_train, label=Y_train)\n",
        "params = {\n",
        "    'objective':'binary:logistic',\n",
        "    'max_depth':10,\n",
        "    'silent':1,\n",
        "    'eta':1\n",
        "}\n",
        "num_rounds = 50\n",
        "train_labels = dtrain.get_label()\n",
        "ratio = 0.5\n",
        "#float(np.sum(train_labels == 0)) / np.sum(train_labels == 1)\n",
        "params['scale_pos_weight'] = ratio\n",
        "bst_model = params, num_rounds\n",
        "print(ratio)"
      ],
      "execution_count": 0,
      "outputs": [
        {
          "output_type": "stream",
          "text": [
            "0.5\n"
          ],
          "name": "stdout"
        }
      ]
    },
    {
      "cell_type": "code",
      "metadata": {
        "id": "mWJUyLeIca4x",
        "colab_type": "code",
        "colab": {}
      },
      "source": [
        "dtrain = xgb.DMatrix(X_train, label=Y_train)\n",
        "dtest = xgb.DMatrix(X_val)\n",
        "\n",
        "params, num_rounds = bst_model\n",
        "\n",
        "bst = xgb.train(params, dtrain, num_rounds)\n",
        "probability = bst.predict(dtest)"
      ],
      "execution_count": 0,
      "outputs": []
    },
    {
      "cell_type": "code",
      "metadata": {
        "id": "2uvcxlwpctl6",
        "colab_type": "code",
        "outputId": "fde0cfbb-bbca-4816-bbca-be2458cb7bdd",
        "colab": {
          "base_uri": "https://localhost:8080/",
          "height": 35
        }
      },
      "source": [
        "print(\"Accuracy for validation set: \", accuracy_score(Y_val, probability>0.5))"
      ],
      "execution_count": 0,
      "outputs": [
        {
          "output_type": "stream",
          "text": [
            "0.875\n"
          ],
          "name": "stdout"
        }
      ]
    },
    {
      "cell_type": "code",
      "metadata": {
        "id": "ylXWdID-cfs2",
        "colab_type": "code",
        "outputId": "0869576c-31fc-4466-8da2-4ebe1c1574ce",
        "colab": {
          "base_uri": "https://localhost:8080/",
          "height": 295
        }
      },
      "source": [
        "from sklearn.metrics import roc_curve, auc,accuracy_score, confusion_matrix\n",
        "import matplotlib.pyplot as plt\n",
        "fpr_xg, tpr_xg, thresholds = roc_curve(Y_val, probability)\n",
        "plt.plot([0, 1], [0, 1], 'k--')\n",
        "plt.plot(fpr_xg, tpr_xg, label='XGBoost AUC='+'{0:.2f}'.format(auc(fpr_xg, tpr_xg)))\n",
        "plt.xlabel('False positive rate')\n",
        "plt.ylabel('True positive rate')\n",
        "plt.title('ROC curve')\n",
        "plt.legend(loc='best')\n",
        "plt.show()"
      ],
      "execution_count": 0,
      "outputs": [
        {
          "output_type": "display_data",
          "data": {
            "image/png": "[encoded data removed]",
            "text/plain": [
              "<Figure size 432x288 with 1 Axes>"
            ]
          },
          "metadata": {
            "tags": []
          }
        }
      ]
    },
    {
      "cell_type": "markdown",
      "metadata": {
        "id": "R3EeuT7jTZew",
        "colab_type": "text"
      },
      "source": [
        "Plot all ROCs together"
      ]
    },
    {
      "cell_type": "code",
      "metadata": {
        "id": "0DWZfOt9TcAw",
        "colab_type": "code",
        "outputId": "3fdae811-855c-4036-d659-e60473697b1f",
        "colab": {
          "base_uri": "https://localhost:8080/",
          "height": 295
        }
      },
      "source": [
        "plt.plot([0, 1], [0, 1], 'k--')\n",
        "plt.plot(fpr_svm, tpr_svm, label='SVM AUC='+'{0:.2f}'.format(auc(fpr_svm, tpr_svm)))\n",
        "plt.plot(fpr_lg, tpr_lg, label='LogReg AUC='+'{0:.2f}'.format(auc(fpr_lg, tpr_lg)))\n",
        "plt.plot(fpr_ab, tpr_ab, label='AdaBoost AUC='+'{0:.2f}'.format(auc(fpr_ab, tpr_ab)))\n",
        "plt.plot(fpr_nn, tpr_nn, label='NN AUC='+'{0:.2f}'.format(auc(fpr_nn, tpr_nn)))\n",
        "plt.plot(fpr_rf, tpr_rf, label='RF AUC='+'{0:.2f}'.format(auc(fpr_rf, tpr_rf)))\n",
        "plt.plot(fpr_xg, tpr_xg, label='XGBoost AUC='+'{0:.2f}'.format(auc(fpr_xg, tpr_xg)))\n",
        "plt.xlabel('False positive rate')\n",
        "plt.ylabel('True positive rate')\n",
        "plt.title('ROC curve')\n",
        "plt.legend(loc='best')\n",
        "plt.show()"
      ],
      "execution_count": 0,
      "outputs": [
        {
          "output_type": "display_data",
          "data": {
            "image/png": "[encoded data removed]",
            "text/plain": [
              "<Figure size 432x288 with 1 Axes>"
            ]
          },
          "metadata": {
            "tags": []
          }
        }
      ]
    },
    {
      "cell_type": "code",
      "metadata": {
        "id": "WEkl9voIURaz",
        "colab_type": "code",
        "colab": {}
      },
      "source": [
        ""
      ],
      "execution_count": 0,
      "outputs": []
    },
    {
      "cell_type": "markdown",
      "metadata": {
        "id": "kwOwuNmDjKwe",
        "colab_type": "text"
      },
      "source": [
        "## Ensemble"
      ]
    },
    {
      "cell_type": "code",
      "metadata": {
        "id": "8V2VJNN_kg1f",
        "colab_type": "code",
        "colab": {}
      },
      "source": [
        "from sklearn.ensemble import RandomForestClassifier, VotingClassifier"
      ],
      "execution_count": 0,
      "outputs": []
    },
    {
      "cell_type": "code",
      "metadata": {
        "id": "07-6imnnjcMO",
        "colab_type": "code",
        "colab": {}
      },
      "source": [
        "eclf1 = VotingClassifier(estimators=[('svm', clf_svm), ('lg', logreg_clf), ('nn', clf_nn)], voting='soft')"
      ],
      "execution_count": 0,
      "outputs": []
    },
    {
      "cell_type": "code",
      "metadata": {
        "id": "keUpuXfCkc6R",
        "colab_type": "code",
        "outputId": "e310c49a-a097-4714-e7fa-e2aa5fba37aa",
        "colab": {
          "base_uri": "https://localhost:8080/",
          "height": 74
        }
      },
      "source": [
        "eclf1 = eclf1.fit(X_train, Y_train)"
      ],
      "execution_count": 0,
      "outputs": [
        {
          "output_type": "stream",
          "text": [
            "/usr/local/lib/python3.6/dist-packages/sklearn/linear_model/logistic.py:432: FutureWarning: Default solver will be changed to 'lbfgs' in 0.22. Specify a solver to silence this warning.\n",
            "  FutureWarning)\n"
          ],
          "name": "stderr"
        }
      ]
    },
    {
      "cell_type": "code",
      "metadata": {
        "id": "YLZ4DZ7AkyY7",
        "colab_type": "code",
        "colab": {}
      },
      "source": [
        "preds_ensemble = eclf1.predict(X_val)"
      ],
      "execution_count": 0,
      "outputs": []
    },
    {
      "cell_type": "code",
      "metadata": {
        "id": "O0DbzErZlDZc",
        "colab_type": "code",
        "outputId": "8eb35f1f-3020-4ed3-b12a-c8a71ca95051",
        "colab": {
          "base_uri": "https://localhost:8080/",
          "height": 35
        }
      },
      "source": [
        "acc_ensemble = accuracy_score(Y_val, preds_ensemble)\n",
        "print(\"Accuracy for validation set: \", acc_ensemble)"
      ],
      "execution_count": 0,
      "outputs": [
        {
          "output_type": "execute_result",
          "data": {
            "text/plain": [
              "0.8958333333333334"
            ]
          },
          "metadata": {
            "tags": []
          },
          "execution_count": 257
        }
      ]
    },
    {
      "cell_type": "code",
      "metadata": {
        "id": "PaI4Wxy61XiS",
        "colab_type": "code",
        "colab": {}
      },
      "source": [
        "from sklearn import svm\n",
        "from sklearn.preprocessing import StandardScaler\n",
        "from sklearn.metrics import roc_curve, auc,accuracy_score, confusion_matrix\n",
        "from sklearn.model_selection import KFold"
      ],
      "execution_count": 0,
      "outputs": []
    },
    {
      "cell_type": "code",
      "metadata": {
        "id": "k0i51bqFpeME",
        "colab_type": "code",
        "colab": {}
      },
      "source": [
        "from sklearn.linear_model import LogisticRegression\n",
        "import xgboost as xgb\n",
        "from sklearn.ensemble import AdaBoostClassifier\n",
        "from sklearn.neural_network import MLPClassifier\n",
        "from sklearn.ensemble import RandomForestClassifier\n",
        "from sklearn.ensemble import ExtraTreesClassifier\n",
        "from sklearn.feature_selection import SelectFromModel"
      ],
      "execution_count": 0,
      "outputs": []
    },
    {
      "cell_type": "code",
      "metadata": {
        "id": "QshCfmUMpiD0",
        "colab_type": "code",
        "colab": {}
      },
      "source": [
        "kfold = KFold(5, True, 1)\n",
        "models = []\n",
        "accuracies_svm = []\n",
        "accuracies_xgb = []\n",
        "accuracies_lr = []\n",
        "accuracies_ab = []\n",
        "accuracies_nn = []\n",
        "accuracies_rf = []\n",
        "fold_counter = 1\n",
        "for train_index, test_index in kfold.split(X_train):\n",
        "  print(\"Current fold: \", fold_counter)\n",
        "  x_train, x_test = X_train[train_index], X_train[test_index]\n",
        "  y_train, y_test = Y_train[train_index], Y_train[test_index]\n",
        "  #Normalize here\n",
        "  scaler = StandardScaler()\n",
        "  scaler.fit(x_train)\n",
        "  x_train = scaler.transform(x_train)\n",
        "  x_test = scaler.transform(x_test)\n",
        "  #SVM\n",
        "  print(\"Training SVM...\")\n",
        "  clf_svm = svm.SVC(C=3, gamma='scale', kernel = 'rbf', probability = True)\n",
        "  clf_svm.fit(x_train, y_train)\n",
        "  pred_svm = clf_svm.predict(x_test)\n",
        "  acc = accuracy_score(y_test, pred_svm)\n",
        "  accuracies_svm.append(acc)\n",
        "  print(acc)\n",
        "\n",
        "  #XGB\n",
        "  print(\"Training XGB...\")\n",
        "  dtrain = xgb.DMatrix(x_train, label=y_train)\n",
        "  params = {\n",
        "      'objective':'binary:logistic',\n",
        "      'max_depth':10,\n",
        "      'silent':1,\n",
        "      'eta':1\n",
        "  }\n",
        "  num_rounds = 50\n",
        "  train_labels = dtrain.get_label()\n",
        "  ratio = 0.5\n",
        "  #float(np.sum(train_labels == 0)) / np.sum(train_labels == 1)\n",
        "  params['scale_pos_weight'] = ratio\n",
        "  bst_model = params, num_rounds\n",
        "  dtrain = xgb.DMatrix(x_train, label=y_train)\n",
        "  dtest = xgb.DMatrix(x_test)\n",
        "\n",
        "  params, num_rounds = bst_model\n",
        "\n",
        "  bst = xgb.train(params, dtrain, num_rounds)\n",
        "  probability = bst.predict(dtest)\n",
        "  acc = accuracy_score(y_test, probability>0.5)\n",
        "  accuracies_xgb.append(acc)\n",
        "  print(acc)\n",
        "\n",
        "  #LR\n",
        "  print(\"Training LR...\")\n",
        "  logreg_clf = LogisticRegression()\n",
        "  logreg_clf.fit(x_train, y_train)\n",
        "  pred_val_lr = logreg_clf.predict(x_test)\n",
        "  acc = accuracy_score(y_test, pred_val_lr)\n",
        "  accuracies_lr.append(acc)\n",
        "  print(acc)\n",
        "\n",
        "  #AB\n",
        "  print(\"Training AB...\")\n",
        "  clf_AB = AdaBoostClassifier(n_estimators=100, random_state=0)\n",
        "  clf_AB.fit(x_train, y_train)\n",
        "  pred_AB = clf_AB.predict(x_test)\n",
        "  acc = accuracy_score(y_test, pred_AB)\n",
        "  accuracies_ab.append(acc)\n",
        "  print(acc)\n",
        "\n",
        "  #NN\n",
        "  print(\"Training NN...\")\n",
        "  clf_nn = MLPClassifier(hidden_layer_sizes=(100,100), activation='relu', solver='adam', max_iter=500, random_state=9)\n",
        "  clf_nn.fit(x_train, y_train)\n",
        "  pred_nn = clf_nn.predict(x_test)\n",
        "  acc = accuracy_score(y_test, pred_nn)\n",
        "  accuracies_nn.append(acc)\n",
        "  print(acc)\n",
        "\n",
        "  #RF\n",
        "  print(\"Training RF...\")\n",
        "  clf_rf = RandomForestClassifier(n_estimators=50, max_depth=6, max_features = X_train.shape[1], random_state=0)\n",
        "  clf_rf.fit(x_train, y_train)\n",
        "  pred_RF = clf_rf.predict(x_test)\n",
        "  acc = accuracy_score(y_test, pred_RF)\n",
        "  accuracies_rf.append(acc)\n",
        "  print(acc)\n",
        "\n",
        "  fold_counter += 1"
      ],
      "execution_count": 0,
      "outputs": []
    }
  ]
}